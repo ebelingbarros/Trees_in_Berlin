{
 "cells": [
  {
   "cell_type": "markdown",
   "metadata": {},
   "source": [
    "# Data Exploration, Cleaning and Wrangling\n",
    "\n",
    "This Jupyter Notebook, when necessary, explores and cleans the dataset, and presents some preliminary visualisations. I analyse whether the visualisations presented below have the necessary quality and visual appeal to be used in the Medium Post. I conclude that not, and therefore use Tableau instead to create the visualisations. "
   ]
  },
  {
   "cell_type": "markdown",
   "metadata": {},
   "source": [
    "#### Import libraries "
   ]
  },
  {
   "cell_type": "code",
   "execution_count": 60,
   "metadata": {},
   "outputs": [],
   "source": [
    "#importing libraries\n",
    "import pandas as pd\n",
    "import numpy as np\n",
    "import matplotlib.pyplot as plt\n",
    "%matplotlib inline\n",
    "import seaborn as sns\n",
    "import plotly.express as px\n",
    "import plotly.graph_objects as go\n",
    "from datetime import datetime\n"
   ]
  },
  {
   "cell_type": "markdown",
   "metadata": {},
   "source": [
    "#### This is a data set of the recent of evolution of Berlin's tree stock. \"Gesamtbestand 1.1\" refers to the number of trees at the start of the year. After the computation of \"Neupflanzungen\" (new trees planted) and \"Fällungen\" (felled trees), the number of trees at the end of the year (\"Gesamtbestand 31.12.\") is obtained. I find that the total number of trees in Berlin has been falling."
   ]
  },
  {
   "cell_type": "code",
   "execution_count": 61,
   "metadata": {},
   "outputs": [
    {
     "data": {
      "text/html": [
       "<div>\n",
       "<style scoped>\n",
       "    .dataframe tbody tr th:only-of-type {\n",
       "        vertical-align: middle;\n",
       "    }\n",
       "\n",
       "    .dataframe tbody tr th {\n",
       "        vertical-align: top;\n",
       "    }\n",
       "\n",
       "    .dataframe thead th {\n",
       "        text-align: right;\n",
       "    }\n",
       "</style>\n",
       "<table border=\"1\" class=\"dataframe\">\n",
       "  <thead>\n",
       "    <tr style=\"text-align: right;\">\n",
       "      <th></th>\n",
       "      <th>Jahr</th>\n",
       "      <th>Gesamtbestand 1.1</th>\n",
       "      <th>Neupflanzungen</th>\n",
       "      <th>Fällungen</th>\n",
       "      <th>Bestands\u0002korrekturen</th>\n",
       "      <th>Gesamtbestand 31.12.</th>\n",
       "      <th>Bestandsveränderung (Fällungen/Neupflanzungen)</th>\n",
       "    </tr>\n",
       "  </thead>\n",
       "  <tbody>\n",
       "    <tr>\n",
       "      <th>0</th>\n",
       "      <td>2010.0</td>\n",
       "      <td>434.371</td>\n",
       "      <td>2.717</td>\n",
       "      <td>3.782</td>\n",
       "      <td>2.370</td>\n",
       "      <td>435.676</td>\n",
       "      <td>-1.065</td>\n",
       "    </tr>\n",
       "    <tr>\n",
       "      <th>1</th>\n",
       "      <td>2011.0</td>\n",
       "      <td>435.676</td>\n",
       "      <td>3.681</td>\n",
       "      <td>4.146</td>\n",
       "      <td>3.695</td>\n",
       "      <td>438.906</td>\n",
       "      <td>-465.000</td>\n",
       "    </tr>\n",
       "    <tr>\n",
       "      <th>2</th>\n",
       "      <td>2012.0</td>\n",
       "      <td>438.740</td>\n",
       "      <td>2.740</td>\n",
       "      <td>4.594</td>\n",
       "      <td>3.085</td>\n",
       "      <td>439.971</td>\n",
       "      <td>-1.854</td>\n",
       "    </tr>\n",
       "    <tr>\n",
       "      <th>3</th>\n",
       "      <td>2013.0</td>\n",
       "      <td>439.971</td>\n",
       "      <td>2.395</td>\n",
       "      <td>3.999</td>\n",
       "      <td>-403.000</td>\n",
       "      <td>437.964</td>\n",
       "      <td>-1.604</td>\n",
       "    </tr>\n",
       "    <tr>\n",
       "      <th>4</th>\n",
       "      <td>2014.0</td>\n",
       "      <td>437.964</td>\n",
       "      <td>2.349</td>\n",
       "      <td>4.437</td>\n",
       "      <td>3.319</td>\n",
       "      <td>439.195</td>\n",
       "      <td>-2.088</td>\n",
       "    </tr>\n",
       "  </tbody>\n",
       "</table>\n",
       "</div>"
      ],
      "text/plain": [
       "     Jahr  Gesamtbestand 1.1  Neupflanzungen  Fällungen  Bestands\u0002korrekturen  \\\n",
       "0  2010.0            434.371           2.717      3.782                 2.370   \n",
       "1  2011.0            435.676           3.681      4.146                 3.695   \n",
       "2  2012.0            438.740           2.740      4.594                 3.085   \n",
       "3  2013.0            439.971           2.395      3.999              -403.000   \n",
       "4  2014.0            437.964           2.349      4.437                 3.319   \n",
       "\n",
       "   Gesamtbestand 31.12.  Bestandsveränderung (Fällungen/Neupflanzungen)  \n",
       "0               435.676                                          -1.065  \n",
       "1               438.906                                        -465.000  \n",
       "2               439.971                                          -1.854  \n",
       "3               437.964                                          -1.604  \n",
       "4               439.195                                          -2.088  "
      ]
     },
     "execution_count": 61,
     "metadata": {},
     "output_type": "execute_result"
    }
   ],
   "source": [
    "# load csv into pandas dataframe\n",
    "df_trees = pd.read_csv('trees.csv')\n",
    "df_trees.head()"
   ]
  },
  {
   "cell_type": "code",
   "execution_count": 62,
   "metadata": {},
   "outputs": [
    {
     "data": {
      "image/png": "[encoded data removed]",
      "text/plain": [
       "<Figure size 936x468 with 1 Axes>"
      ]
     },
     "metadata": {
      "needs_background": "light"
     },
     "output_type": "display_data"
    }
   ],
   "source": [
    "# One possibility is to plot like this. It is not attractive.\n",
    "plt.figure(figsize=(13, 6.5))\n",
    "e = sns.lineplot(data=df_trees, x=\"Jahr\", y=\"Gesamtbestand 1.1\")\n",
    "f = sns.lineplot(data=df_trees, x=\"Jahr\", y=\"Neupflanzungen\")\n",
    "g = sns.lineplot(data=df_trees, x=\"Jahr\", y=\"Fällungen\")\n",
    "h = sns.lineplot(data=df_trees, x=\"Jahr\", y=\"Gesamtbestand 31.12.\")\n"
   ]
  },
  {
   "cell_type": "code",
   "execution_count": 63,
   "metadata": {},
   "outputs": [
    {
     "data": {
      "image/png": "[encoded data removed]",
      "text/plain": [
       "<Figure size 576x576 with 4 Axes>"
      ]
     },
     "metadata": {
      "needs_background": "light"
     },
     "output_type": "display_data"
    }
   ],
   "source": [
    "# Another is to plot with subplots, which is also dull.\n",
    "fig,a =  plt.subplots(2,2, figsize=(8,8))\n",
    "x = df_trees['Jahr']\n",
    "a[0][0].plot(x,df_trees['Gesamtbestand 1.1'])\n",
    "a[0][0].set_title('Gesamtbestand 1.1')\n",
    "a[0][1].plot(x,df_trees['Neupflanzungen'])\n",
    "a[0][1].set_title('Neupflanzungen')\n",
    "a[1][0].plot(x,df_trees['Fällungen'])\n",
    "a[1][0].set_title('Fällungen')\n",
    "a[1][1].plot(x,df_trees['Gesamtbestand 31.12.'])\n",
    "a[1][1].set_title('Gesamtbestand 31.12.')\n",
    "plt.show()"
   ]
  },
  {
   "cell_type": "markdown",
   "metadata": {},
   "source": [
    "#### This is a data set of the annual average precipitation in Berlin, from 1876 to 2021. It has been obtained from the KNMI Climate Explorer."
   ]
  },
  {
   "cell_type": "code",
   "execution_count": 64,
   "metadata": {},
   "outputs": [
    {
     "data": {
      "text/html": [
       "<div>\n",
       "<style scoped>\n",
       "    .dataframe tbody tr th:only-of-type {\n",
       "        vertical-align: middle;\n",
       "    }\n",
       "\n",
       "    .dataframe tbody tr th {\n",
       "        vertical-align: top;\n",
       "    }\n",
       "\n",
       "    .dataframe thead th {\n",
       "        text-align: right;\n",
       "    }\n",
       "</style>\n",
       "<table border=\"1\" class=\"dataframe\">\n",
       "  <thead>\n",
       "    <tr style=\"text-align: right;\">\n",
       "      <th></th>\n",
       "      <th>Unnamed: 0</th>\n",
       "      <th>Year</th>\n",
       "      <th>Unnamed: 2</th>\n",
       "      <th>Unnamed: 3</th>\n",
       "      <th>[mm/day]</th>\n",
       "      <th>annual\\tmean</th>\n",
       "      <th>of</th>\n",
       "      <th>24-hr</th>\n",
       "      <th>summed</th>\n",
       "      <th>precipitation</th>\n",
       "    </tr>\n",
       "  </thead>\n",
       "  <tbody>\n",
       "    <tr>\n",
       "      <th>0</th>\n",
       "      <td>NaN</td>\n",
       "      <td>1876</td>\n",
       "      <td>NaN</td>\n",
       "      <td>NaN</td>\n",
       "      <td>1.743716</td>\n",
       "      <td>NaN</td>\n",
       "      <td>NaN</td>\n",
       "      <td>NaN</td>\n",
       "      <td>NaN</td>\n",
       "      <td>NaN</td>\n",
       "    </tr>\n",
       "    <tr>\n",
       "      <th>1</th>\n",
       "      <td>NaN</td>\n",
       "      <td>1877</td>\n",
       "      <td>NaN</td>\n",
       "      <td>NaN</td>\n",
       "      <td>1.738630</td>\n",
       "      <td>NaN</td>\n",
       "      <td>NaN</td>\n",
       "      <td>NaN</td>\n",
       "      <td>NaN</td>\n",
       "      <td>NaN</td>\n",
       "    </tr>\n",
       "    <tr>\n",
       "      <th>2</th>\n",
       "      <td>NaN</td>\n",
       "      <td>1878</td>\n",
       "      <td>NaN</td>\n",
       "      <td>NaN</td>\n",
       "      <td>1.526027</td>\n",
       "      <td>NaN</td>\n",
       "      <td>NaN</td>\n",
       "      <td>NaN</td>\n",
       "      <td>NaN</td>\n",
       "      <td>NaN</td>\n",
       "    </tr>\n",
       "    <tr>\n",
       "      <th>3</th>\n",
       "      <td>NaN</td>\n",
       "      <td>1879</td>\n",
       "      <td>NaN</td>\n",
       "      <td>NaN</td>\n",
       "      <td>1.564110</td>\n",
       "      <td>NaN</td>\n",
       "      <td>NaN</td>\n",
       "      <td>NaN</td>\n",
       "      <td>NaN</td>\n",
       "      <td>NaN</td>\n",
       "    </tr>\n",
       "    <tr>\n",
       "      <th>4</th>\n",
       "      <td>NaN</td>\n",
       "      <td>1880</td>\n",
       "      <td>NaN</td>\n",
       "      <td>NaN</td>\n",
       "      <td>1.600546</td>\n",
       "      <td>NaN</td>\n",
       "      <td>NaN</td>\n",
       "      <td>NaN</td>\n",
       "      <td>NaN</td>\n",
       "      <td>NaN</td>\n",
       "    </tr>\n",
       "    <tr>\n",
       "      <th>...</th>\n",
       "      <td>...</td>\n",
       "      <td>...</td>\n",
       "      <td>...</td>\n",
       "      <td>...</td>\n",
       "      <td>...</td>\n",
       "      <td>...</td>\n",
       "      <td>...</td>\n",
       "      <td>...</td>\n",
       "      <td>...</td>\n",
       "      <td>...</td>\n",
       "    </tr>\n",
       "    <tr>\n",
       "      <th>139</th>\n",
       "      <td>NaN</td>\n",
       "      <td>2016</td>\n",
       "      <td>NaN</td>\n",
       "      <td>NaN</td>\n",
       "      <td>1.325777</td>\n",
       "      <td>NaN</td>\n",
       "      <td>NaN</td>\n",
       "      <td>NaN</td>\n",
       "      <td>NaN</td>\n",
       "      <td>NaN</td>\n",
       "    </tr>\n",
       "    <tr>\n",
       "      <th>140</th>\n",
       "      <td>NaN</td>\n",
       "      <td>2017</td>\n",
       "      <td>NaN</td>\n",
       "      <td>NaN</td>\n",
       "      <td>2.199542</td>\n",
       "      <td>NaN</td>\n",
       "      <td>NaN</td>\n",
       "      <td>NaN</td>\n",
       "      <td>NaN</td>\n",
       "      <td>NaN</td>\n",
       "    </tr>\n",
       "    <tr>\n",
       "      <th>141</th>\n",
       "      <td>NaN</td>\n",
       "      <td>2018</td>\n",
       "      <td>NaN</td>\n",
       "      <td>NaN</td>\n",
       "      <td>1.076669</td>\n",
       "      <td>NaN</td>\n",
       "      <td>NaN</td>\n",
       "      <td>NaN</td>\n",
       "      <td>NaN</td>\n",
       "      <td>NaN</td>\n",
       "    </tr>\n",
       "    <tr>\n",
       "      <th>142</th>\n",
       "      <td>NaN</td>\n",
       "      <td>2019</td>\n",
       "      <td>NaN</td>\n",
       "      <td>NaN</td>\n",
       "      <td>1.412427</td>\n",
       "      <td>NaN</td>\n",
       "      <td>NaN</td>\n",
       "      <td>NaN</td>\n",
       "      <td>NaN</td>\n",
       "      <td>NaN</td>\n",
       "    </tr>\n",
       "    <tr>\n",
       "      <th>143</th>\n",
       "      <td>NaN</td>\n",
       "      <td>2020</td>\n",
       "      <td>NaN</td>\n",
       "      <td>NaN</td>\n",
       "      <td>1.342018</td>\n",
       "      <td>NaN</td>\n",
       "      <td>NaN</td>\n",
       "      <td>NaN</td>\n",
       "      <td>NaN</td>\n",
       "      <td>NaN</td>\n",
       "    </tr>\n",
       "  </tbody>\n",
       "</table>\n",
       "<p>144 rows × 10 columns</p>\n",
       "</div>"
      ],
      "text/plain": [
       "     Unnamed: 0  Year  Unnamed: 2  Unnamed: 3  [mm/day]  annual\\tmean  of  \\\n",
       "0           NaN  1876         NaN         NaN  1.743716           NaN NaN   \n",
       "1           NaN  1877         NaN         NaN  1.738630           NaN NaN   \n",
       "2           NaN  1878         NaN         NaN  1.526027           NaN NaN   \n",
       "3           NaN  1879         NaN         NaN  1.564110           NaN NaN   \n",
       "4           NaN  1880         NaN         NaN  1.600546           NaN NaN   \n",
       "..          ...   ...         ...         ...       ...           ...  ..   \n",
       "139         NaN  2016         NaN         NaN  1.325777           NaN NaN   \n",
       "140         NaN  2017         NaN         NaN  2.199542           NaN NaN   \n",
       "141         NaN  2018         NaN         NaN  1.076669           NaN NaN   \n",
       "142         NaN  2019         NaN         NaN  1.412427           NaN NaN   \n",
       "143         NaN  2020         NaN         NaN  1.342018           NaN NaN   \n",
       "\n",
       "     24-hr  summed  precipitation  \n",
       "0      NaN     NaN            NaN  \n",
       "1      NaN     NaN            NaN  \n",
       "2      NaN     NaN            NaN  \n",
       "3      NaN     NaN            NaN  \n",
       "4      NaN     NaN            NaN  \n",
       "..     ...     ...            ...  \n",
       "139    NaN     NaN            NaN  \n",
       "140    NaN     NaN            NaN  \n",
       "141    NaN     NaN            NaN  \n",
       "142    NaN     NaN            NaN  \n",
       "143    NaN     NaN            NaN  \n",
       "\n",
       "[144 rows x 10 columns]"
      ]
     },
     "execution_count": 64,
     "metadata": {},
     "output_type": "execute_result"
    }
   ],
   "source": [
    "# The first step is to import the data\n",
    "df_precipitation = pd.read_csv('precipitation.txt', delimiter = \" \")\n",
    "df_precipitation"
   ]
  },
  {
   "cell_type": "code",
   "execution_count": 65,
   "metadata": {},
   "outputs": [
    {
     "data": {
      "text/html": [
       "<div>\n",
       "<style scoped>\n",
       "    .dataframe tbody tr th:only-of-type {\n",
       "        vertical-align: middle;\n",
       "    }\n",
       "\n",
       "    .dataframe tbody tr th {\n",
       "        vertical-align: top;\n",
       "    }\n",
       "\n",
       "    .dataframe thead th {\n",
       "        text-align: right;\n",
       "    }\n",
       "</style>\n",
       "<table border=\"1\" class=\"dataframe\">\n",
       "  <thead>\n",
       "    <tr style=\"text-align: right;\">\n",
       "      <th></th>\n",
       "      <th>Year</th>\n",
       "      <th>[mm/day]</th>\n",
       "    </tr>\n",
       "  </thead>\n",
       "  <tbody>\n",
       "    <tr>\n",
       "      <th>0</th>\n",
       "      <td>1876</td>\n",
       "      <td>1.743716</td>\n",
       "    </tr>\n",
       "    <tr>\n",
       "      <th>1</th>\n",
       "      <td>1877</td>\n",
       "      <td>1.738630</td>\n",
       "    </tr>\n",
       "    <tr>\n",
       "      <th>2</th>\n",
       "      <td>1878</td>\n",
       "      <td>1.526027</td>\n",
       "    </tr>\n",
       "    <tr>\n",
       "      <th>3</th>\n",
       "      <td>1879</td>\n",
       "      <td>1.564110</td>\n",
       "    </tr>\n",
       "    <tr>\n",
       "      <th>4</th>\n",
       "      <td>1880</td>\n",
       "      <td>1.600546</td>\n",
       "    </tr>\n",
       "  </tbody>\n",
       "</table>\n",
       "</div>"
      ],
      "text/plain": [
       "   Year  [mm/day]\n",
       "0  1876  1.743716\n",
       "1  1877  1.738630\n",
       "2  1878  1.526027\n",
       "3  1879  1.564110\n",
       "4  1880  1.600546"
      ]
     },
     "execution_count": 65,
     "metadata": {},
     "output_type": "execute_result"
    }
   ],
   "source": [
    "#Here I drop the unnecessary columns, as the data came in a messy format \n",
    "df_precipitation2 = df_precipitation.drop(['Unnamed: 0', 'Unnamed: 2', 'Unnamed: 3', 'annual\\tmean', 'of', '24-hr', 'summed', 'precipitation'], axis=1)\n",
    "df_precipitation2.head()"
   ]
  },
  {
   "cell_type": "code",
   "execution_count": 66,
   "metadata": {},
   "outputs": [
    {
     "data": {
      "text/html": [
       "<div>\n",
       "<style scoped>\n",
       "    .dataframe tbody tr th:only-of-type {\n",
       "        vertical-align: middle;\n",
       "    }\n",
       "\n",
       "    .dataframe tbody tr th {\n",
       "        vertical-align: top;\n",
       "    }\n",
       "\n",
       "    .dataframe thead th {\n",
       "        text-align: right;\n",
       "    }\n",
       "</style>\n",
       "<table border=\"1\" class=\"dataframe\">\n",
       "  <thead>\n",
       "    <tr style=\"text-align: right;\">\n",
       "      <th></th>\n",
       "      <th>Year</th>\n",
       "      <th>Annual mean of 24-hr summed precipitation (mm/day)</th>\n",
       "    </tr>\n",
       "  </thead>\n",
       "  <tbody>\n",
       "    <tr>\n",
       "      <th>0</th>\n",
       "      <td>1876</td>\n",
       "      <td>1.743716</td>\n",
       "    </tr>\n",
       "    <tr>\n",
       "      <th>1</th>\n",
       "      <td>1877</td>\n",
       "      <td>1.738630</td>\n",
       "    </tr>\n",
       "    <tr>\n",
       "      <th>2</th>\n",
       "      <td>1878</td>\n",
       "      <td>1.526027</td>\n",
       "    </tr>\n",
       "    <tr>\n",
       "      <th>3</th>\n",
       "      <td>1879</td>\n",
       "      <td>1.564110</td>\n",
       "    </tr>\n",
       "    <tr>\n",
       "      <th>4</th>\n",
       "      <td>1880</td>\n",
       "      <td>1.600546</td>\n",
       "    </tr>\n",
       "  </tbody>\n",
       "</table>\n",
       "</div>"
      ],
      "text/plain": [
       "   Year  Annual mean of 24-hr summed precipitation (mm/day)\n",
       "0  1876                                           1.743716 \n",
       "1  1877                                           1.738630 \n",
       "2  1878                                           1.526027 \n",
       "3  1879                                           1.564110 \n",
       "4  1880                                           1.600546 "
      ]
     },
     "execution_count": 66,
     "metadata": {},
     "output_type": "execute_result"
    }
   ],
   "source": [
    "#In this step i change the main column's name\n",
    "df_precipitation2 = df_precipitation2.rename(columns={'[mm/day]': 'Annual mean of 24-hr summed precipitation (mm/day)'\n",
    "                        })\n",
    "# check if that worked\n",
    "df_precipitation2.head()"
   ]
  },
  {
   "cell_type": "markdown",
   "metadata": {},
   "source": [
    "#### This is a data set of the annual average temperature in Berlin, from 1876 to 2021. It has been obtained from the KNMI Climate Explorer."
   ]
  },
  {
   "cell_type": "code",
   "execution_count": 67,
   "metadata": {},
   "outputs": [
    {
     "name": "stderr",
     "output_type": "stream",
     "text": [
      "<ipython-input-67-0b58bad2cd6a>:2: ParserWarning: Falling back to the 'python' engine because the 'c' engine does not support regex separators (separators > 1 char and different from '\\s+' are interpreted as regex); you can avoid this warning by specifying engine='python'.\n",
      "  df_temperature = pd.read_csv('temperature.txt', delimiter = \"  \")\n"
     ]
    },
    {
     "data": {
      "text/html": [
       "<div>\n",
       "<style scoped>\n",
       "    .dataframe tbody tr th:only-of-type {\n",
       "        vertical-align: middle;\n",
       "    }\n",
       "\n",
       "    .dataframe tbody tr th {\n",
       "        vertical-align: top;\n",
       "    }\n",
       "\n",
       "    .dataframe thead th {\n",
       "        text-align: right;\n",
       "    }\n",
       "</style>\n",
       "<table border=\"1\" class=\"dataframe\">\n",
       "  <thead>\n",
       "    <tr style=\"text-align: right;\">\n",
       "      <th></th>\n",
       "      <th>Year</th>\n",
       "      <th>Annual mean of daily mean temperature (Celsius)</th>\n",
       "    </tr>\n",
       "  </thead>\n",
       "  <tbody>\n",
       "    <tr>\n",
       "      <th>0</th>\n",
       "      <td>1876</td>\n",
       "      <td>9.320219</td>\n",
       "    </tr>\n",
       "    <tr>\n",
       "      <th>1</th>\n",
       "      <td>1877</td>\n",
       "      <td>9.727944</td>\n",
       "    </tr>\n",
       "    <tr>\n",
       "      <th>2</th>\n",
       "      <td>1878</td>\n",
       "      <td>10.236710</td>\n",
       "    </tr>\n",
       "    <tr>\n",
       "      <th>3</th>\n",
       "      <td>1879</td>\n",
       "      <td>8.180549</td>\n",
       "    </tr>\n",
       "    <tr>\n",
       "      <th>4</th>\n",
       "      <td>1880</td>\n",
       "      <td>9.805191</td>\n",
       "    </tr>\n",
       "  </tbody>\n",
       "</table>\n",
       "</div>"
      ],
      "text/plain": [
       "   Year  Annual mean of daily mean temperature (Celsius)\n",
       "0  1876                                         9.320219\n",
       "1  1877                                         9.727944\n",
       "2  1878                                        10.236710\n",
       "3  1879                                         8.180549\n",
       "4  1880                                         9.805191"
      ]
     },
     "execution_count": 67,
     "metadata": {},
     "output_type": "execute_result"
    }
   ],
   "source": [
    "# The first step is to import the data. \n",
    "df_temperature = pd.read_csv('temperature.txt', delimiter = \"  \")\n",
    "# The second is to change the main column's name\n",
    "df_temperature = df_temperature.rename(columns={' Annual mean of daily mean temperature (Celsius)': 'Annual mean of daily mean temperature (Celsius)'\n",
    "                        })\n",
    "df_temperature.head()"
   ]
  },
  {
   "cell_type": "markdown",
   "metadata": {},
   "source": [
    "#### Here I join the two last dataframes into a single one"
   ]
  },
  {
   "cell_type": "code",
   "execution_count": 68,
   "metadata": {},
   "outputs": [
    {
     "data": {
      "text/html": [
       "<div>\n",
       "<style scoped>\n",
       "    .dataframe tbody tr th:only-of-type {\n",
       "        vertical-align: middle;\n",
       "    }\n",
       "\n",
       "    .dataframe tbody tr th {\n",
       "        vertical-align: top;\n",
       "    }\n",
       "\n",
       "    .dataframe thead th {\n",
       "        text-align: right;\n",
       "    }\n",
       "</style>\n",
       "<table border=\"1\" class=\"dataframe\">\n",
       "  <thead>\n",
       "    <tr style=\"text-align: right;\">\n",
       "      <th></th>\n",
       "      <th>Year</th>\n",
       "      <th>Annual mean of 24-hr summed precipitation (mm/day)</th>\n",
       "      <th>Annual mean of daily mean temperature (Celsius)</th>\n",
       "    </tr>\n",
       "  </thead>\n",
       "  <tbody>\n",
       "    <tr>\n",
       "      <th>0</th>\n",
       "      <td>1876</td>\n",
       "      <td>1.743716</td>\n",
       "      <td>9.320219</td>\n",
       "    </tr>\n",
       "    <tr>\n",
       "      <th>1</th>\n",
       "      <td>1877</td>\n",
       "      <td>1.738630</td>\n",
       "      <td>9.727944</td>\n",
       "    </tr>\n",
       "    <tr>\n",
       "      <th>2</th>\n",
       "      <td>1878</td>\n",
       "      <td>1.526027</td>\n",
       "      <td>10.236710</td>\n",
       "    </tr>\n",
       "    <tr>\n",
       "      <th>3</th>\n",
       "      <td>1879</td>\n",
       "      <td>1.564110</td>\n",
       "      <td>8.180549</td>\n",
       "    </tr>\n",
       "    <tr>\n",
       "      <th>4</th>\n",
       "      <td>1880</td>\n",
       "      <td>1.600546</td>\n",
       "      <td>9.805191</td>\n",
       "    </tr>\n",
       "    <tr>\n",
       "      <th>...</th>\n",
       "      <td>...</td>\n",
       "      <td>...</td>\n",
       "      <td>...</td>\n",
       "    </tr>\n",
       "    <tr>\n",
       "      <th>139</th>\n",
       "      <td>2016</td>\n",
       "      <td>1.325777</td>\n",
       "      <td>10.456640</td>\n",
       "    </tr>\n",
       "    <tr>\n",
       "      <th>140</th>\n",
       "      <td>2017</td>\n",
       "      <td>2.199542</td>\n",
       "      <td>10.328610</td>\n",
       "    </tr>\n",
       "    <tr>\n",
       "      <th>141</th>\n",
       "      <td>2018</td>\n",
       "      <td>1.076669</td>\n",
       "      <td>11.370640</td>\n",
       "    </tr>\n",
       "    <tr>\n",
       "      <th>142</th>\n",
       "      <td>2019</td>\n",
       "      <td>1.412427</td>\n",
       "      <td>11.534940</td>\n",
       "    </tr>\n",
       "    <tr>\n",
       "      <th>143</th>\n",
       "      <td>2020</td>\n",
       "      <td>1.342018</td>\n",
       "      <td>11.434260</td>\n",
       "    </tr>\n",
       "  </tbody>\n",
       "</table>\n",
       "<p>144 rows × 3 columns</p>\n",
       "</div>"
      ],
      "text/plain": [
       "     Year  Annual mean of 24-hr summed precipitation (mm/day)  \\\n",
       "0    1876                                           1.743716    \n",
       "1    1877                                           1.738630    \n",
       "2    1878                                           1.526027    \n",
       "3    1879                                           1.564110    \n",
       "4    1880                                           1.600546    \n",
       "..    ...                                                ...    \n",
       "139  2016                                           1.325777    \n",
       "140  2017                                           2.199542    \n",
       "141  2018                                           1.076669    \n",
       "142  2019                                           1.412427    \n",
       "143  2020                                           1.342018    \n",
       "\n",
       "     Annual mean of daily mean temperature (Celsius)  \n",
       "0                                           9.320219  \n",
       "1                                           9.727944  \n",
       "2                                          10.236710  \n",
       "3                                           8.180549  \n",
       "4                                           9.805191  \n",
       "..                                               ...  \n",
       "139                                        10.456640  \n",
       "140                                        10.328610  \n",
       "141                                        11.370640  \n",
       "142                                        11.534940  \n",
       "143                                        11.434260  \n",
       "\n",
       "[144 rows x 3 columns]"
      ]
     },
     "execution_count": 68,
     "metadata": {},
     "output_type": "execute_result"
    }
   ],
   "source": [
    "df_precipitation_temperature = pd.merge(df_precipitation2, df_temperature, on=\"Year\")\n",
    "df_precipitation_temperature "
   ]
  },
  {
   "cell_type": "markdown",
   "metadata": {},
   "source": [
    "#### Below I plot both in a single graph. While the graph is functional for the story I want to tell, I think that I could do it better. I settle with Tableau for creating the visualisations."
   ]
  },
  {
   "cell_type": "code",
   "execution_count": 70,
   "metadata": {},
   "outputs": [
    {
     "data": {
      "text/plain": [
       "<matplotlib.legend.Legend at 0x21680a27bb0>"
      ]
     },
     "execution_count": 70,
     "metadata": {},
     "output_type": "execute_result"
    },
    {
     "data": {
      "image/png": "[encoded data removed]",
      "text/plain": [
       "<Figure size 936x468 with 1 Axes>"
      ]
     },
     "metadata": {
      "needs_background": "light"
     },
     "output_type": "display_data"
    }
   ],
   "source": [
    "plt.figure(figsize=(13, 6.5))\n",
    "c = sns.lineplot(data=df_precipitation_temperature, x=\"Year\", y=\"Annual mean of 24-hr summed precipitation (mm/day)\")\n",
    "d = sns.lineplot(data=df_precipitation_temperature, x=\"Year\", y=\"Annual mean of daily mean temperature (Celsius)\")\n",
    "c.set(ylim=(0, 20))\n",
    "d.set(ylim=(0, 20))\n",
    "c.set(xlabel='Year', ylabel='Precipitation and temperature')\n",
    "d.legend(['Annual mean of 24-hr summed precipitation (mm/day)', 'Annual mean of daily mean temperature (Celsius)'])"
   ]
  },
  {
   "cell_type": "markdown",
   "metadata": {},
   "source": [
    "#### The last data set is obtained from a database of 766,000 trees from Berlin."
   ]
  },
  {
   "cell_type": "code",
   "execution_count": 71,
   "metadata": {},
   "outputs": [
    {
     "data": {
      "text/html": [
       "<div>\n",
       "<style scoped>\n",
       "    .dataframe tbody tr th:only-of-type {\n",
       "        vertical-align: middle;\n",
       "    }\n",
       "\n",
       "    .dataframe tbody tr th {\n",
       "        vertical-align: top;\n",
       "    }\n",
       "\n",
       "    .dataframe thead th {\n",
       "        text-align: right;\n",
       "    }\n",
       "</style>\n",
       "<table border=\"1\" class=\"dataframe\">\n",
       "  <thead>\n",
       "    <tr style=\"text-align: right;\">\n",
       "      <th></th>\n",
       "      <th>ID</th>\n",
       "      <th>Baum Nr.</th>\n",
       "      <th>Objektnr.</th>\n",
       "      <th>Objektname</th>\n",
       "      <th>Baumart deutsch</th>\n",
       "      <th>Baumart botanisch</th>\n",
       "      <th>Gattung botanisch</th>\n",
       "      <th>Straße</th>\n",
       "      <th>Hausnr.</th>\n",
       "      <th>Hausnr. Zusatz</th>\n",
       "      <th>Pflanzjahr</th>\n",
       "      <th>Standalter</th>\n",
       "      <th>Krone Durchmesser in m</th>\n",
       "      <th>Stamm Umfang in cm</th>\n",
       "      <th>Baumhöhe in m</th>\n",
       "      <th>Bezirk</th>\n",
       "    </tr>\n",
       "  </thead>\n",
       "  <tbody>\n",
       "    <tr>\n",
       "      <th>0</th>\n",
       "      <td>00008100:0020ebb5</td>\n",
       "      <td>81</td>\n",
       "      <td>00451</td>\n",
       "      <td>Bayernallee</td>\n",
       "      <td>Eiche 'Fastigiata Koster'</td>\n",
       "      <td>Quercus robur 'Fastigiata Koster'</td>\n",
       "      <td>QUERCUS</td>\n",
       "      <td>Bayernallee</td>\n",
       "      <td>33/A</td>\n",
       "      <td>-</td>\n",
       "      <td>2018</td>\n",
       "      <td>3.00</td>\n",
       "      <td>1.00</td>\n",
       "      <td>20.00</td>\n",
       "      <td>3.00</td>\n",
       "      <td>Charlottenburg-Wilmersdorf</td>\n",
       "    </tr>\n",
       "    <tr>\n",
       "      <th>1</th>\n",
       "      <td>00008100:0020ebb6</td>\n",
       "      <td>82</td>\n",
       "      <td>00451</td>\n",
       "      <td>Bayernallee</td>\n",
       "      <td>Eiche 'Fastigiata Koster'</td>\n",
       "      <td>Quercus robur 'Fastigiata Koster'</td>\n",
       "      <td>QUERCUS</td>\n",
       "      <td>Bayernallee</td>\n",
       "      <td>33A</td>\n",
       "      <td>-</td>\n",
       "      <td>2018</td>\n",
       "      <td>3.00</td>\n",
       "      <td>1.00</td>\n",
       "      <td>20.00</td>\n",
       "      <td>3.00</td>\n",
       "      <td>Charlottenburg-Wilmersdorf</td>\n",
       "    </tr>\n",
       "    <tr>\n",
       "      <th>2</th>\n",
       "      <td>00008100:00203278</td>\n",
       "      <td>78</td>\n",
       "      <td>04407</td>\n",
       "      <td>Tannenbergallee</td>\n",
       "      <td>Pyramiden-Hainbuche</td>\n",
       "      <td>Carpinus betulus 'Fastigiata'</td>\n",
       "      <td>CARPINUS</td>\n",
       "      <td>Tannenbergallee</td>\n",
       "      <td>4A</td>\n",
       "      <td>-</td>\n",
       "      <td>2015</td>\n",
       "      <td>6.00</td>\n",
       "      <td>1.00</td>\n",
       "      <td>23.00</td>\n",
       "      <td>5.00</td>\n",
       "      <td>Charlottenburg-Wilmersdorf</td>\n",
       "    </tr>\n",
       "    <tr>\n",
       "      <th>3</th>\n",
       "      <td>00008100:00203277</td>\n",
       "      <td>135</td>\n",
       "      <td>02899</td>\n",
       "      <td>Lyckallee</td>\n",
       "      <td>Winter-Linde 'Greenspire'</td>\n",
       "      <td>Tilia cordata 'Greenspire'</td>\n",
       "      <td>TILIA</td>\n",
       "      <td>Lyckallee</td>\n",
       "      <td>18</td>\n",
       "      <td>-</td>\n",
       "      <td>2015</td>\n",
       "      <td>6.00</td>\n",
       "      <td>1.00</td>\n",
       "      <td>20.00</td>\n",
       "      <td>3.00</td>\n",
       "      <td>Charlottenburg-Wilmersdorf</td>\n",
       "    </tr>\n",
       "    <tr>\n",
       "      <th>4</th>\n",
       "      <td>00008100:00202f80</td>\n",
       "      <td>79</td>\n",
       "      <td>01046</td>\n",
       "      <td>Düsseldorfer Str.</td>\n",
       "      <td>Kugel-Winter-Linde 'Green Globe'</td>\n",
       "      <td>Tilia cordata 'Green Globe'</td>\n",
       "      <td>TILIA</td>\n",
       "      <td>Düsseldorfer Straße</td>\n",
       "      <td>3</td>\n",
       "      <td>-</td>\n",
       "      <td>2015</td>\n",
       "      <td>6.00</td>\n",
       "      <td>2.00</td>\n",
       "      <td>27.00</td>\n",
       "      <td>5.00</td>\n",
       "      <td>Charlottenburg-Wilmersdorf</td>\n",
       "    </tr>\n",
       "  </tbody>\n",
       "</table>\n",
       "</div>"
      ],
      "text/plain": [
       "                  ID Baum Nr. Objektnr.         Objektname  \\\n",
       "0  00008100:0020ebb5       81     00451        Bayernallee   \n",
       "1  00008100:0020ebb6       82     00451        Bayernallee   \n",
       "2  00008100:00203278       78     04407    Tannenbergallee   \n",
       "3  00008100:00203277      135     02899          Lyckallee   \n",
       "4  00008100:00202f80       79     01046  Düsseldorfer Str.   \n",
       "\n",
       "                    Baumart deutsch                  Baumart botanisch  \\\n",
       "0         Eiche 'Fastigiata Koster'  Quercus robur 'Fastigiata Koster'   \n",
       "1         Eiche 'Fastigiata Koster'  Quercus robur 'Fastigiata Koster'   \n",
       "2               Pyramiden-Hainbuche      Carpinus betulus 'Fastigiata'   \n",
       "3         Winter-Linde 'Greenspire'         Tilia cordata 'Greenspire'   \n",
       "4  Kugel-Winter-Linde 'Green Globe'        Tilia cordata 'Green Globe'   \n",
       "\n",
       "  Gattung botanisch               Straße Hausnr. Hausnr. Zusatz Pflanzjahr  \\\n",
       "0           QUERCUS          Bayernallee    33/A              -       2018   \n",
       "1           QUERCUS          Bayernallee     33A              -       2018   \n",
       "2          CARPINUS      Tannenbergallee      4A              -       2015   \n",
       "3             TILIA            Lyckallee      18              -       2015   \n",
       "4             TILIA  Düsseldorfer Straße       3              -       2015   \n",
       "\n",
       "  Standalter Krone Durchmesser in m Stamm Umfang in cm Baumhöhe in m  \\\n",
       "0       3.00                   1.00              20.00          3.00   \n",
       "1       3.00                   1.00              20.00          3.00   \n",
       "2       6.00                   1.00              23.00          5.00   \n",
       "3       6.00                   1.00              20.00          3.00   \n",
       "4       6.00                   2.00              27.00          5.00   \n",
       "\n",
       "                       Bezirk  \n",
       "0  Charlottenburg-Wilmersdorf  \n",
       "1  Charlottenburg-Wilmersdorf  \n",
       "2  Charlottenburg-Wilmersdorf  \n",
       "3  Charlottenburg-Wilmersdorf  \n",
       "4  Charlottenburg-Wilmersdorf  "
      ]
     },
     "execution_count": 71,
     "metadata": {},
     "output_type": "execute_result"
    }
   ],
   "source": [
    "# The first step is to import the data\n",
    "df_treesdb = pd.read_csv('trees_from_berlin.csv', low_memory=False)\n",
    "df_treesdb.head()"
   ]
  },
  {
   "cell_type": "markdown",
   "metadata": {},
   "source": [
    "#### Here I plot the distribution of the category \"Gattung botanisch\" (Botanical genus). While it is doable, the visualisation is not informative."
   ]
  },
  {
   "cell_type": "code",
   "execution_count": 72,
   "metadata": {},
   "outputs": [
    {
     "data": {
      "text/plain": [
       "<AxesSubplot:xlabel='Gattung botanisch', ylabel='Count'>"
      ]
     },
     "execution_count": 72,
     "metadata": {},
     "output_type": "execute_result"
    },
    {
     "data": {
      "image/png": "[encoded data removed]",
      "text/plain": [
       "<Figure size 1080x576 with 1 Axes>"
      ]
     },
     "metadata": {
      "needs_background": "light"
     },
     "output_type": "display_data"
    }
   ],
   "source": [
    "plt.figure(figsize=(15, 8))\n",
    "sns.histplot(x=df_treesdb[\"Gattung botanisch\"] , color=\"gold\")"
   ]
  },
  {
   "cell_type": "markdown",
   "metadata": {},
   "source": [
    "#### Another possibility is to work with bins to analyse the distribution of the trees' ages.  "
   ]
  },
  {
   "cell_type": "code",
   "execution_count": 73,
   "metadata": {},
   "outputs": [
    {
     "data": {
      "text/plain": [
       "C    318655\n",
       "D    283060\n",
       "B    131157\n",
       "E     10145\n",
       "A      3320\n",
       "Name: Standalter, dtype: int64"
      ]
     },
     "execution_count": 73,
     "metadata": {},
     "output_type": "execute_result"
    }
   ],
   "source": [
    "# In this step I create the bins using \"pd.cut\"\n",
    "df_treesdb = df_treesdb.apply(pd.to_numeric, errors=\"coerce\")\n",
    "size_bin = ['A', 'B', 'C', 'D', 'E']\n",
    "df_treesdb['Standalter'] = pd.cut(df_treesdb['Standalter'], bins=[0, 1.5, 10, 30, 100, 200], labels=size_bin)\n",
    "df_treesdb['Standalter'].value_counts()"
   ]
  },
  {
   "cell_type": "code",
   "execution_count": 77,
   "metadata": {},
   "outputs": [
    {
     "data": {
      "text/plain": [
       "<AxesSubplot:xlabel='Standalter', ylabel='count'>"
      ]
     },
     "execution_count": 77,
     "metadata": {},
     "output_type": "execute_result"
    },
    {
     "data": {
      "image/png": "[encoded data removed]",
      "text/plain": [
       "<Figure size 1080x576 with 1 Axes>"
      ]
     },
     "metadata": {
      "needs_background": "light"
     },
     "output_type": "display_data"
    }
   ],
   "source": [
    "# This is the visualisation with the obtained bins. It is informative (by telling that most trees have a middle age) but does not suit what I want to do.\n",
    "plt.figure(figsize=(15, 8))\n",
    "sns.countplot(x=df_treesdb[\"Standalter\"] , color=\"blue\")"
   ]
  },
  {
   "cell_type": "markdown",
   "metadata": {},
   "source": [
    "### I decide to create all the visualisations needed for the story in Tableau. They can be found here: https://public.tableau.com/profile/francisco.ebeling#!/"
   ]
  }
 ],
 "metadata": {
  "kernelspec": {
   "display_name": "Python 3",
   "language": "python",
   "name": "python3"
  },
  "language_info": {
   "codemirror_mode": {
    "name": "ipython",
    "version": 3
   },
   "file_extension": ".py",
   "mimetype": "text/x-python",
   "name": "python",
   "nbconvert_exporter": "python",
   "pygments_lexer": "ipython3",
   "version": "3.8.5"
  }
 },
 "nbformat": 4,
 "nbformat_minor": 5
}
